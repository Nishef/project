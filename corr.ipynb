{
 "cells": [
  {
   "cell_type": "code",
   "execution_count": 1,
   "metadata": {
    "pycharm": {
     "name": "#%%\n"
    }
   },
   "outputs": [],
   "source": [
    "from cProfile import label\n",
    "from importlib import reload\n",
    "from turtle import color\n",
    "from LSTM_Func import *\n",
    "from matplotlib.dates import DateFormatter\n",
    "import statsmodels.tsa.stattools as st\n",
    "import matplotlib.dates as mpl_dates\n",
    "import matplotlib.ticker as mtick\n",
    "import seaborn as sns\n",
    "import LSTM_Func"
   ]
  },
  {
   "cell_type": "code",
   "execution_count": 2,
   "metadata": {
    "pycharm": {
     "name": "#%%\n"
    }
   },
   "outputs": [],
   "source": [
    "reload(LSTM_Func)\n",
    "pre = LSTM_Func.Preprocessing()"
   ]
  },
  {
   "cell_type": "code",
   "execution_count": 3,
   "metadata": {
    "pycharm": {
     "name": "#%%\n"
    }
   },
   "outputs": [
    {
     "data": {
      "text/html": [
       "<div>\n",
       "<style scoped>\n",
       "    .dataframe tbody tr th:only-of-type {\n",
       "        vertical-align: middle;\n",
       "    }\n",
       "\n",
       "    .dataframe tbody tr th {\n",
       "        vertical-align: top;\n",
       "    }\n",
       "\n",
       "    .dataframe thead th {\n",
       "        text-align: right;\n",
       "    }\n",
       "</style>\n",
       "<table border=\"1\" class=\"dataframe\">\n",
       "  <thead>\n",
       "    <tr style=\"text-align: right;\">\n",
       "      <th></th>\n",
       "      <th>date</th>\n",
       "      <th>open</th>\n",
       "      <th>high</th>\n",
       "      <th>low</th>\n",
       "      <th>close</th>\n",
       "      <th>Volume BTC</th>\n",
       "      <th>Volume USDT</th>\n",
       "      <th>tradecount</th>\n",
       "      <th>date_eth</th>\n",
       "      <th>open_eth</th>\n",
       "      <th>high_eth</th>\n",
       "      <th>low_eth</th>\n",
       "      <th>close_eth</th>\n",
       "      <th>Volume ETH</th>\n",
       "      <th>Volume USDT_eth</th>\n",
       "      <th>tradecount_eth</th>\n",
       "      <th>per_close_btc</th>\n",
       "      <th>per_close_eth</th>\n",
       "    </tr>\n",
       "  </thead>\n",
       "  <tbody>\n",
       "    <tr>\n",
       "      <th>0</th>\n",
       "      <td>2022-01-01 00:01:00</td>\n",
       "      <td>46250.00</td>\n",
       "      <td>46344.23</td>\n",
       "      <td>46234.39</td>\n",
       "      <td>46312.76</td>\n",
       "      <td>42.38106</td>\n",
       "      <td>1.961908e+06</td>\n",
       "      <td>973</td>\n",
       "      <td>2022-01-01 0:01</td>\n",
       "      <td>3684.85</td>\n",
       "      <td>3694.20</td>\n",
       "      <td>3681.33</td>\n",
       "      <td>3691.55</td>\n",
       "      <td>273.0180</td>\n",
       "      <td>1.006818e+06</td>\n",
       "      <td>580</td>\n",
       "      <td>-0.001207</td>\n",
       "      <td>-0.000560</td>\n",
       "    </tr>\n",
       "    <tr>\n",
       "      <th>1</th>\n",
       "      <td>2022-01-01 00:02:00</td>\n",
       "      <td>46312.76</td>\n",
       "      <td>46381.69</td>\n",
       "      <td>46292.75</td>\n",
       "      <td>46368.73</td>\n",
       "      <td>51.29955</td>\n",
       "      <td>2.377414e+06</td>\n",
       "      <td>1238</td>\n",
       "      <td>2022-01-01 0:02</td>\n",
       "      <td>3692.50</td>\n",
       "      <td>3694.42</td>\n",
       "      <td>3687.49</td>\n",
       "      <td>3693.62</td>\n",
       "      <td>216.0824</td>\n",
       "      <td>7.976563e+05</td>\n",
       "      <td>460</td>\n",
       "      <td>0.000813</td>\n",
       "      <td>0.000824</td>\n",
       "    </tr>\n",
       "    <tr>\n",
       "      <th>2</th>\n",
       "      <td>2022-01-01 00:03:00</td>\n",
       "      <td>46368.73</td>\n",
       "      <td>46391.49</td>\n",
       "      <td>46314.26</td>\n",
       "      <td>46331.08</td>\n",
       "      <td>30.45894</td>\n",
       "      <td>1.412004e+06</td>\n",
       "      <td>953</td>\n",
       "      <td>2022-01-01 0:03</td>\n",
       "      <td>3693.63</td>\n",
       "      <td>3695.41</td>\n",
       "      <td>3689.55</td>\n",
       "      <td>3690.58</td>\n",
       "      <td>250.2232</td>\n",
       "      <td>9.237721e+05</td>\n",
       "      <td>448</td>\n",
       "      <td>0.000210</td>\n",
       "      <td>0.000133</td>\n",
       "    </tr>\n",
       "    <tr>\n",
       "      <th>3</th>\n",
       "      <td>2022-01-01 00:04:00</td>\n",
       "      <td>46331.07</td>\n",
       "      <td>46336.10</td>\n",
       "      <td>46300.00</td>\n",
       "      <td>46321.34</td>\n",
       "      <td>20.96029</td>\n",
       "      <td>9.710099e+05</td>\n",
       "      <td>591</td>\n",
       "      <td>2022-01-01 0:04</td>\n",
       "      <td>3690.57</td>\n",
       "      <td>3691.03</td>\n",
       "      <td>3688.00</td>\n",
       "      <td>3690.09</td>\n",
       "      <td>119.8314</td>\n",
       "      <td>4.421674e+05</td>\n",
       "      <td>279</td>\n",
       "      <td>-0.002470</td>\n",
       "      <td>-0.002312</td>\n",
       "    </tr>\n",
       "    <tr>\n",
       "      <th>4</th>\n",
       "      <td>2022-01-01 00:05:00</td>\n",
       "      <td>46321.34</td>\n",
       "      <td>46443.56</td>\n",
       "      <td>46280.00</td>\n",
       "      <td>46436.03</td>\n",
       "      <td>35.86682</td>\n",
       "      <td>1.663803e+06</td>\n",
       "      <td>962</td>\n",
       "      <td>2022-01-01 0:05</td>\n",
       "      <td>3690.12</td>\n",
       "      <td>3698.96</td>\n",
       "      <td>3686.70</td>\n",
       "      <td>3698.64</td>\n",
       "      <td>242.3607</td>\n",
       "      <td>8.950811e+05</td>\n",
       "      <td>564</td>\n",
       "      <td>-0.001769</td>\n",
       "      <td>-0.001754</td>\n",
       "    </tr>\n",
       "    <tr>\n",
       "      <th>...</th>\n",
       "      <td>...</td>\n",
       "      <td>...</td>\n",
       "      <td>...</td>\n",
       "      <td>...</td>\n",
       "      <td>...</td>\n",
       "      <td>...</td>\n",
       "      <td>...</td>\n",
       "      <td>...</td>\n",
       "      <td>...</td>\n",
       "      <td>...</td>\n",
       "      <td>...</td>\n",
       "      <td>...</td>\n",
       "      <td>...</td>\n",
       "      <td>...</td>\n",
       "      <td>...</td>\n",
       "      <td>...</td>\n",
       "      <td>...</td>\n",
       "      <td>...</td>\n",
       "    </tr>\n",
       "    <tr>\n",
       "      <th>299669</th>\n",
       "      <td>2022-07-28 08:42:00</td>\n",
       "      <td>22951.40</td>\n",
       "      <td>22959.50</td>\n",
       "      <td>22928.89</td>\n",
       "      <td>22934.20</td>\n",
       "      <td>138.43508</td>\n",
       "      <td>3.175640e+06</td>\n",
       "      <td>3730</td>\n",
       "      <td>2022-07-28 8:42</td>\n",
       "      <td>1623.36</td>\n",
       "      <td>1623.92</td>\n",
       "      <td>1621.49</td>\n",
       "      <td>1622.07</td>\n",
       "      <td>878.9052</td>\n",
       "      <td>1.426059e+06</td>\n",
       "      <td>703</td>\n",
       "      <td>-0.000484</td>\n",
       "      <td>-0.000641</td>\n",
       "    </tr>\n",
       "    <tr>\n",
       "      <th>299670</th>\n",
       "      <td>2022-07-28 08:43:00</td>\n",
       "      <td>22937.61</td>\n",
       "      <td>22947.00</td>\n",
       "      <td>22934.20</td>\n",
       "      <td>22945.30</td>\n",
       "      <td>47.21507</td>\n",
       "      <td>1.083242e+06</td>\n",
       "      <td>2164</td>\n",
       "      <td>2022-07-28 8:43</td>\n",
       "      <td>1622.08</td>\n",
       "      <td>1623.47</td>\n",
       "      <td>1622.07</td>\n",
       "      <td>1623.11</td>\n",
       "      <td>214.9579</td>\n",
       "      <td>3.488615e+05</td>\n",
       "      <td>342</td>\n",
       "      <td>-0.000122</td>\n",
       "      <td>-0.000105</td>\n",
       "    </tr>\n",
       "    <tr>\n",
       "      <th>299671</th>\n",
       "      <td>2022-07-28 08:44:00</td>\n",
       "      <td>22945.30</td>\n",
       "      <td>22950.26</td>\n",
       "      <td>22938.29</td>\n",
       "      <td>22948.10</td>\n",
       "      <td>45.54059</td>\n",
       "      <td>1.045000e+06</td>\n",
       "      <td>1997</td>\n",
       "      <td>2022-07-28 8:44</td>\n",
       "      <td>1623.10</td>\n",
       "      <td>1624.00</td>\n",
       "      <td>1622.64</td>\n",
       "      <td>1623.28</td>\n",
       "      <td>264.3219</td>\n",
       "      <td>4.290847e+05</td>\n",
       "      <td>330</td>\n",
       "      <td>-0.001592</td>\n",
       "      <td>-0.001396</td>\n",
       "    </tr>\n",
       "    <tr>\n",
       "      <th>299672</th>\n",
       "      <td>2022-07-28 08:45:00</td>\n",
       "      <td>22948.10</td>\n",
       "      <td>22988.00</td>\n",
       "      <td>22942.00</td>\n",
       "      <td>22984.69</td>\n",
       "      <td>139.47446</td>\n",
       "      <td>3.202954e+06</td>\n",
       "      <td>3905</td>\n",
       "      <td>2022-07-28 8:45</td>\n",
       "      <td>1623.27</td>\n",
       "      <td>1626.60</td>\n",
       "      <td>1622.67</td>\n",
       "      <td>1625.55</td>\n",
       "      <td>423.2666</td>\n",
       "      <td>6.874490e+05</td>\n",
       "      <td>626</td>\n",
       "      <td>-0.000179</td>\n",
       "      <td>-0.000320</td>\n",
       "    </tr>\n",
       "    <tr>\n",
       "      <th>299673</th>\n",
       "      <td>2022-07-28 08:46:00</td>\n",
       "      <td>22984.69</td>\n",
       "      <td>22996.28</td>\n",
       "      <td>22982.07</td>\n",
       "      <td>22988.81</td>\n",
       "      <td>111.78275</td>\n",
       "      <td>2.569675e+06</td>\n",
       "      <td>3211</td>\n",
       "      <td>2022-07-28 8:46</td>\n",
       "      <td>1625.54</td>\n",
       "      <td>1626.50</td>\n",
       "      <td>1625.54</td>\n",
       "      <td>1626.07</td>\n",
       "      <td>437.5264</td>\n",
       "      <td>7.114488e+05</td>\n",
       "      <td>417</td>\n",
       "      <td>0.000205</td>\n",
       "      <td>0.000529</td>\n",
       "    </tr>\n",
       "  </tbody>\n",
       "</table>\n",
       "<p>299674 rows × 18 columns</p>\n",
       "</div>"
      ],
      "text/plain": [
       "                       date      open      high       low     close  \\\n",
       "0       2022-01-01 00:01:00  46250.00  46344.23  46234.39  46312.76   \n",
       "1       2022-01-01 00:02:00  46312.76  46381.69  46292.75  46368.73   \n",
       "2       2022-01-01 00:03:00  46368.73  46391.49  46314.26  46331.08   \n",
       "3       2022-01-01 00:04:00  46331.07  46336.10  46300.00  46321.34   \n",
       "4       2022-01-01 00:05:00  46321.34  46443.56  46280.00  46436.03   \n",
       "...                     ...       ...       ...       ...       ...   \n",
       "299669  2022-07-28 08:42:00  22951.40  22959.50  22928.89  22934.20   \n",
       "299670  2022-07-28 08:43:00  22937.61  22947.00  22934.20  22945.30   \n",
       "299671  2022-07-28 08:44:00  22945.30  22950.26  22938.29  22948.10   \n",
       "299672  2022-07-28 08:45:00  22948.10  22988.00  22942.00  22984.69   \n",
       "299673  2022-07-28 08:46:00  22984.69  22996.28  22982.07  22988.81   \n",
       "\n",
       "        Volume BTC   Volume USDT  tradecount         date_eth  open_eth  \\\n",
       "0         42.38106  1.961908e+06         973  2022-01-01 0:01   3684.85   \n",
       "1         51.29955  2.377414e+06        1238  2022-01-01 0:02   3692.50   \n",
       "2         30.45894  1.412004e+06         953  2022-01-01 0:03   3693.63   \n",
       "3         20.96029  9.710099e+05         591  2022-01-01 0:04   3690.57   \n",
       "4         35.86682  1.663803e+06         962  2022-01-01 0:05   3690.12   \n",
       "...            ...           ...         ...              ...       ...   \n",
       "299669   138.43508  3.175640e+06        3730  2022-07-28 8:42   1623.36   \n",
       "299670    47.21507  1.083242e+06        2164  2022-07-28 8:43   1622.08   \n",
       "299671    45.54059  1.045000e+06        1997  2022-07-28 8:44   1623.10   \n",
       "299672   139.47446  3.202954e+06        3905  2022-07-28 8:45   1623.27   \n",
       "299673   111.78275  2.569675e+06        3211  2022-07-28 8:46   1625.54   \n",
       "\n",
       "        high_eth  low_eth  close_eth  Volume ETH  Volume USDT_eth  \\\n",
       "0        3694.20  3681.33    3691.55    273.0180     1.006818e+06   \n",
       "1        3694.42  3687.49    3693.62    216.0824     7.976563e+05   \n",
       "2        3695.41  3689.55    3690.58    250.2232     9.237721e+05   \n",
       "3        3691.03  3688.00    3690.09    119.8314     4.421674e+05   \n",
       "4        3698.96  3686.70    3698.64    242.3607     8.950811e+05   \n",
       "...          ...      ...        ...         ...              ...   \n",
       "299669   1623.92  1621.49    1622.07    878.9052     1.426059e+06   \n",
       "299670   1623.47  1622.07    1623.11    214.9579     3.488615e+05   \n",
       "299671   1624.00  1622.64    1623.28    264.3219     4.290847e+05   \n",
       "299672   1626.60  1622.67    1625.55    423.2666     6.874490e+05   \n",
       "299673   1626.50  1625.54    1626.07    437.5264     7.114488e+05   \n",
       "\n",
       "        tradecount_eth  per_close_btc  per_close_eth  \n",
       "0                  580      -0.001207      -0.000560  \n",
       "1                  460       0.000813       0.000824  \n",
       "2                  448       0.000210       0.000133  \n",
       "3                  279      -0.002470      -0.002312  \n",
       "4                  564      -0.001769      -0.001754  \n",
       "...                ...            ...            ...  \n",
       "299669             703      -0.000484      -0.000641  \n",
       "299670             342      -0.000122      -0.000105  \n",
       "299671             330      -0.001592      -0.001396  \n",
       "299672             626      -0.000179      -0.000320  \n",
       "299673             417       0.000205       0.000529  \n",
       "\n",
       "[299674 rows x 18 columns]"
      ]
     },
     "execution_count": 3,
     "metadata": {},
     "output_type": "execute_result"
    }
   ],
   "source": [
    "data1 = pd.read_csv(\"btc&eth_1.csv\")\n",
    "# data15 = pd.read_csv(\"btc_eth_15.csv\")\n",
    "# data30 = pd.read_csv(\"btc_eth_30.csv\")\n",
    "data1"
   ]
  },
  {
   "cell_type": "code",
   "execution_count": 4,
   "metadata": {
    "pycharm": {
     "name": "#%%\n"
    }
   },
   "outputs": [],
   "source": [
    "x = np.log(data1[\"close\"])\n",
    "y = np.log(data1[\"close_eth\"])"
   ]
  },
  {
   "cell_type": "code",
   "execution_count": 5,
   "metadata": {
    "pycharm": {
     "name": "#%%\n"
    }
   },
   "outputs": [],
   "source": [
    "spread = x - y"
   ]
  },
  {
   "cell_type": "code",
   "execution_count": 5,
   "metadata": {
    "pycharm": {
     "name": "#%%\n"
    }
   },
   "outputs": [],
   "source": [
    "st.coint(y, x)"
   ]
  },
  {
   "cell_type": "code",
   "execution_count": 6,
   "metadata": {
    "pycharm": {
     "name": "#%%\n"
    }
   },
   "outputs": [],
   "source": [
    "y2 = y * 1.32\n",
    "plt.plot(x, label=\"BTC\")\n",
    "plt.plot(y2, label=\"ETH\")\n",
    "plt.legend()\n",
    "plt.show()"
   ]
  },
  {
   "cell_type": "code",
   "execution_count": 7,
   "metadata": {
    "pycharm": {
     "name": "#%%\n"
    }
   },
   "outputs": [],
   "source": [
    "plt.subplots(figsize=(10, 6))\n",
    "ax = plt.gca()\n",
    "plt.plot(spread - 2.5)\n",
    "plt.gcf().autofmt_xdate()\n",
    "ax.xaxis.set_major_locator(mtick.AutoLocator())\n",
    "# ((data1[\"close\"][299673])-(data1[\"close\"][299672]))/data1[\"close\"][299672]\n",
    "# need *100\n",
    "# data1['Datetime'] = pd.to_datetime(data1['Datetime'])\n",
    "# data15['Datetime'] = pd.to_datetime(data15['Datetime'])\n",
    "# data30['Datetime'] = pd.to_datetime(data30['Datetime'])\n",
    "# # %%\n",
    "# data1.to_csv('btc_eth_1.csv',index=False)\n",
    "# data15.to_csv('btc_eth_15.csv',index=False)\n",
    "# data30.to_csv('btc_eth_30.csv',index=False)\n",
    "# data1['per_close_btc']=data1['close'].pct_change()\n",
    "# data1['per_close_eth']=data1['close_eth'].pct_change()\n",
    "# data1=data1.dropna()"
   ]
  },
  {
   "cell_type": "code",
   "execution_count": 8,
   "metadata": {
    "pycharm": {
     "name": "#%%\n"
    }
   },
   "outputs": [],
   "source": [
    "# plt.plot(np.log(data1[\"close\"])-np.log(data1[\"lose_eth\"]),label='Spread')\n",
    "ax = plt.gca()\n",
    "plt.plot((data1[\"per_close_btc\"][-50:]) * 100, label=\"BTC\")\n",
    "plt.plot((data1[\"per_close_eth\"][-50:]) * 100, label=\"ETH\")\n",
    "plt.legend()\n",
    "# ax.yaxis.set_major_formatter(plt.FuncFormatter('{:.0f}%'.format))\n",
    "plt.axhline(y=0, linestyle=\"--\", color='k')\n",
    "ax.yaxis.set_major_formatter(mtick.PercentFormatter())\n",
    "# dataplot = sns.heatmap(eth.corr(), cmap=\"RdYlGn\", annot=True)"
   ]
  },
  {
   "cell_type": "code",
   "execution_count": 9,
   "metadata": {
    "pycharm": {
     "name": "#%%\n"
    }
   },
   "outputs": [],
   "source": [
    "plt.subplots(figsize=(10, 6))\n",
    "ax = plt.gca()\n",
    "plt.style.use('seaborn')\n",
    "plt.plot(data1[\"date\"][-10000:], (data1[\"per_close_btc\"][-10000:]) * 100, label=\"BTC\")\n",
    "plt.plot(data1[\"date\"][-10000:], (data1[\"per_close_eth\"][-10000:]) * 100, label=\"ETH\")\n",
    "# ax.xaxis.set_major_locator(mdates.WeekdayLocator(interval=2))\n",
    "# mdates.MonthLocater(interval=2)\n",
    "# ax.xaxis.set_major_formatter(DateFormatter(\"%Y-%m-%d\"))\n",
    "# date_format=mpl_dates.DateFormatter(\"%b, %d %Y\")\n",
    "# Get the access of current figure\n",
    "plt.ylabel('Percent Change of Closed Price', size=14)\n",
    "plt.title('Chart of the last 75 data\\n1 minutes data', size=18)\n",
    "plt.axhline(y=0, linestyle=\"--\", color='k')\n",
    "ax.yaxis.set_major_formatter(mtick.PercentFormatter())\n",
    "plt.gcf().autofmt_xdate()\n",
    "ax.xaxis.set_major_locator(mtick.AutoLocator())\n",
    "# ax.xaxis.set_major_locator(ticker.MultipleLocator(1))\n",
    "# ax.xaxis.set_minor_locator(ticker.AutoMinorLocator())\n",
    "# Get the access of current figure\n",
    "# ax.xaxis.set_major_formatter('%Y-%m-%d %H:%M')\n",
    "\n",
    "plt.legend()\n",
    "# Define the date format\n",
    "# date_form = DateFormatter(\"%m-%d\")\n",
    "# plt.xaxis.set_major_formatter(date_form)\n",
    "plt.show()"
   ]
  },
  {
   "cell_type": "code",
   "execution_count": 10,
   "metadata": {
    "pycharm": {
     "name": "#%%\n"
    }
   },
   "outputs": [],
   "source": [
    "from sklearn.metrics import r2_score\n",
    "\n",
    "R2 = r2_score(data1[\"per_close_eth\"], data1[\"per_close_btc\"])\n",
    "# mix=mix.drop(columns=mix.columns[0])"
   ]
  },
  {
   "cell_type": "code",
   "execution_count": 11,
   "metadata": {
    "pycharm": {
     "name": "#%%\n"
    }
   },
   "outputs": [],
   "source": [
    "# from statsmodels.tsa.stattools import adfuller\n",
    "pre.fuller_kpss_test(data1[\"close\"])"
   ]
  },
  {
   "cell_type": "code",
   "execution_count": 12,
   "metadata": {
    "pycharm": {
     "name": "#%%\n"
    }
   },
   "outputs": [],
   "source": [
    "plt.figure(figsize=(12, 8))\n",
    "dataplot = sns.heatmap(data1.corr(), cmap=\"RdYlGn\", annot=True)"
   ]
  },
  {
   "cell_type": "code",
   "execution_count": 13,
   "metadata": {
    "pycharm": {
     "name": "#%%\n"
    }
   },
   "outputs": [],
   "source": [
    "plt.figure(figsize=(12, 8))\n",
    "dataplot = sns.heatmap(data15.corr(), cmap=\"RdYlGn\", annot=True)"
   ]
  },
  {
   "cell_type": "code",
   "execution_count": 14,
   "metadata": {
    "pycharm": {
     "name": "#%%\n"
    }
   },
   "outputs": [],
   "source": [
    "plt.figure(figsize=(12, 8))\n",
    "dataplot = sns.heatmap(data30.corr(), cmap=\"RdYlGn\", annot=True)"
   ]
  },
  {
   "cell_type": "code",
   "execution_count": 15,
   "metadata": {
    "pycharm": {
     "name": "#%%\n"
    }
   },
   "outputs": [],
   "source": [
    "import nltk\n",
    "\n",
    "nltk.__file__"
   ]
  },
  {
   "cell_type": "code",
   "execution_count": 16,
   "metadata": {
    "pycharm": {
     "name": "#%%\n"
    }
   },
   "outputs": [],
   "source": [
    "i = 0\n",
    "for index, row in data1.iterrows():\n",
    "    if (row[\"per_close_btc\"] > 0) and (row[\"per_close_eth\"] < 0) or (row[\"per_close_btc\"] < 0) and (\n",
    "            row[\"per_close_eth\"] > 0):\n",
    "        i += 1\n",
    "print(i)"
   ]
  },
  {
   "cell_type": "code",
   "execution_count": 17,
   "metadata": {
    "pycharm": {
     "name": "#%%\n"
    }
   },
   "outputs": [],
   "source": [
    "j = 0\n",
    "for index, row in mix.iterrows():\n",
    "    if row[\"per_close\"] == row[\"per_close_right\"]:\n",
    "        j += 1\n",
    "print(j)"
   ]
  },
  {
   "cell_type": "code",
   "execution_count": 18,
   "metadata": {
    "pycharm": {
     "name": "#%%\n"
    }
   },
   "outputs": [],
   "source": [
    "plt.scatter(data1[\"date\"], data1[\"tradecount_eth\"])"
   ]
  }
 ],
 "metadata": {
  "kernelspec": {
   "display_name": "Python 3.9.12 ('base')",
   "language": "python",
   "name": "python3"
  },
  "language_info": {
   "codemirror_mode": {
    "name": "ipython",
    "version": 3
   },
   "file_extension": ".py",
   "mimetype": "text/x-python",
   "name": "python",
   "nbconvert_exporter": "python",
   "pygments_lexer": "ipython3",
   "version": "3.9.12"
  },
  "vscode": {
   "interpreter": {
    "hash": "c585f91d3623973be3accc48b0d5e967ce904a396a0f0c8bda7b100d8b60333f"
   }
  }
 },
 "nbformat": 4,
 "nbformat_minor": 2
}
